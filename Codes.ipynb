{
 "cells": [
  {
   "cell_type": "markdown",
   "id": "9f0a011e",
   "metadata": {},
   "source": [
    "Q1. Create a 1D array of 9 elements using numpy module and reshape it into 2D array of size 3*3?"
   ]
  },
  {
   "cell_type": "code",
   "execution_count": 3,
   "id": "dad037d1",
   "metadata": {},
   "outputs": [
    {
     "name": "stdout",
     "output_type": "stream",
     "text": [
      "[1 2 3 4 5 6 7 8 9]\n",
      "[[1 2 3]\n",
      " [4 5 6]\n",
      " [7 8 9]]\n"
     ]
    }
   ],
   "source": [
    "import numpy as np\n",
    "a = np.array([1,2,3,4,5,6,7,8,9])\n",
    "b=a.reshape(3,3)\n",
    "print(b)"
   ]
  },
  {
   "cell_type": "markdown",
   "id": "17a3dc37",
   "metadata": {},
   "source": [
    "Q2. Print the output of the following code:                                                                                        \n",
    "                 list3= [x for x in range(10) if x%2 == 0]                                                                      \n",
    "                   print(list3)"
   ]
  },
  {
   "cell_type": "code",
   "execution_count": 4,
   "id": "a2bda2b8",
   "metadata": {},
   "outputs": [
    {
     "name": "stdout",
     "output_type": "stream",
     "text": [
      "[0, 2, 4, 6, 8]\n"
     ]
    }
   ],
   "source": [
    "list3 = [x for x in range(10) if x%2==0]\n",
    "print(list3)"
   ]
  },
  {
   "cell_type": "markdown",
   "id": "6e93d289",
   "metadata": {},
   "source": [
    "Q3. Given the string text = \"Python Programming\".Perform string slicing to extract specific substrings according to the following instructions :                                                                                                                                                                                                                                                    a) Slice the string to obtain the first 6 characters.                                                                            b) Extract a substring that includes the characters from index 6 to index 13.                                                    c) Slice the last 5 characters from the string.                                                                                  d) Create a new string by slicing and concatenating the first 4 characters and the last 3 characters. \n"
   ]
  },
  {
   "cell_type": "code",
   "execution_count": 6,
   "id": "4b39df62",
   "metadata": {},
   "outputs": [
    {
     "name": "stdout",
     "output_type": "stream",
     "text": [
      "Python\n"
     ]
    }
   ],
   "source": [
    "x=\"Python Programming\"\n",
    "y=x[:6]\n",
    "print(y)"
   ]
  },
  {
   "cell_type": "code",
   "execution_count": 7,
   "id": "1b9280e5",
   "metadata": {},
   "outputs": [
    {
     "name": "stdout",
     "output_type": "stream",
     "text": [
      " Progra\n"
     ]
    }
   ],
   "source": [
    "b=x[6:13]\n",
    "print(b)"
   ]
  },
  {
   "cell_type": "code",
   "execution_count": 8,
   "id": "d70f3861",
   "metadata": {},
   "outputs": [
    {
     "name": "stdout",
     "output_type": "stream",
     "text": [
      "mming\n"
     ]
    }
   ],
   "source": [
    "c =x[-5:]\n",
    "print(c)"
   ]
  },
  {
   "cell_type": "code",
   "execution_count": 9,
   "id": "c581fa0d",
   "metadata": {},
   "outputs": [
    {
     "name": "stdout",
     "output_type": "stream",
     "text": [
      "Pything\n"
     ]
    }
   ],
   "source": [
    "z = x[0:4] + x[-3:]     #z is sliced string\n",
    "print(z)"
   ]
  },
  {
   "cell_type": "markdown",
   "id": "f275ccce",
   "metadata": {},
   "source": [
    "Q5. Write a python program to generate two dataframes, namely,d1 and d2.Construct d1 utilizing a two dimensional list,and create d2 using a dictonary? "
   ]
  },
  {
   "cell_type": "code",
   "execution_count": 16,
   "id": "669bfd5c",
   "metadata": {},
   "outputs": [],
   "source": [
    "data1 = [['Name', 'Age', 'City'],\n",
    "         ['Mrigank', '19', 'Barabanki'],\n",
    "         ['Archana', '19', 'Ayodhaya'],\n",
    "         ['Sister', '20', 'Laddakh']]\n",
    "data2 = {'Name': ['Mayank', 'Mannu', 'Shehnaz'],\n",
    "         'Age': [20, 28, 35],\n",
    "         'City': ['Lucknow', 'Faizabad', 'Jammu']}\n"
   ]
  },
  {
   "cell_type": "code",
   "execution_count": 13,
   "id": "1b0abcc3",
   "metadata": {},
   "outputs": [
    {
     "name": "stdout",
     "output_type": "stream",
     "text": [
      "      Name Age       City\n",
      "0  Mrigank  19  Barabanki\n",
      "1  Archana  19   Ayodhaya\n",
      "2   Sister  20    Laddakh\n",
      "      Name  Age      City\n",
      "0   Mayank   20   Lucknow\n",
      "1    Mannu   28  Faizabad\n",
      "2  Shehnaz   35     Jammu\n"
     ]
    }
   ],
   "source": [
    "import pandas as pd\n",
    "\n",
    "d1 = pd.DataFrame(data1[1:], columns=data1[0])\n",
    "d2 = pd.DataFrame(data2)\n",
    "\n",
    "print(d1)\n",
    "print(d2)"
   ]
  },
  {
   "cell_type": "markdown",
   "id": "3b9af4ca",
   "metadata": {},
   "source": [
    "Q6. How to measure strength of association between two variables? Write a python code to discuss in detail about the variance, standard deviation, covariance, and correlation?"
   ]
  },
  {
   "attachments": {},
   "cell_type": "markdown",
   "id": "bbb656c8",
   "metadata": {},
   "source": [
    "Covariance and correlation are two statistical measures that describe the relationship between two variables.\n",
    "\n",
    "Covariance measures the extent to which two variables vary together, or co-vary.Covariance can take on positive or negative values, indicating whether the variables tend to move in the same or opposite directions. A covariance of zero indicates that the variables are uncorrelated.\n",
    "\n",
    "The formula for the covariance between two variables X and Y is:\n",
    "Cov(X, Y) = E[(X – E[X])(Y – E[Y])]\n",
    "where E[X] and E[Y] are the expected values of X and Y, respectively. \n",
    "\n",
    "Correlation measures the strength and direction of the linear relationship between two variables.Correlation ranges from -1 to 1, with -1 indicating a perfect negative linear relationship, 0 indicating no linear relationship, and 1 indicating a perfect positive linear relationship. \n",
    "\n",
    "The formula for the correlation coefficient between two variables X and Y is:\n",
    "r(X, Y) = Cov(X, Y) / (SD[X] * SD[Y])\n",
    "where SD[X] and SD[Y] are the standard deviations of X and Y, respectively.\n"
   ]
  },
  {
   "cell_type": "code",
   "execution_count": 65,
   "id": "be9e4247",
   "metadata": {},
   "outputs": [
    {
     "name": "stdout",
     "output_type": "stream",
     "text": [
      "Mean of data 1: 3.0\n",
      "Mean of data 2: 8.0\n",
      "Variance of data 1: 2.0\n",
      "Variance of data 2: 2.0\n",
      "Standard deviation of data 1: 1.4142135623730951\n",
      "Standard deviation of data 2: 1.4142135623730951\n",
      "Covariance of data 1 and data 2: [[2.5 2.5]\n",
      " [2.5 2.5]]\n",
      "Correlation of data 1 and data 2: [[1. 1.]\n",
      " [1. 1.]]\n"
     ]
    }
   ],
   "source": [
    "import numpy as np\n",
    "\n",
    "# Create two lists of data\n",
    "data1 = [1, 2, 3, 4, 5]\n",
    "data2 = [6, 7, 8, 9, 10]\n",
    "\n",
    "mean1 = np.mean(data1)\n",
    "mean2 = np.mean(data2)\n",
    "var1 = np.var(data1)\n",
    "var2 = np.var(data2)\n",
    "sd1 = np.std(data1)\n",
    "sd2 = np.std(data2)\n",
    "cov = np.cov(data1, data2)\n",
    "corr = np.corrcoef(data1, data2)\n",
    "\n",
    "print(\"Mean of data 1: {}\".format(mean1))\n",
    "print(\"Mean of data 2: {}\".format(mean2))\n",
    "print(\"Variance of data 1: {}\".format(var1))\n",
    "print(\"Variance of data 2: {}\".format(var2))\n",
    "print(\"Standard deviation of data 1: {}\".format(sd1))\n",
    "print(\"Standard deviation of data 2: {}\".format(sd2))\n",
    "print(\"Covariance of data 1 and data 2: {}\".format(cov))\n",
    "print(\"Correlation of data 1 and data 2: {}\".format(corr))"
   ]
  },
  {
   "cell_type": "markdown",
   "id": "6b871486",
   "metadata": {},
   "source": [
    "Q7. Write a python program to explain the concepts of standardidization and normalization? Dicuss the circumstances under which it is appropriate to utilize these techniques in data preprocessing?"
   ]
  },
  {
   "cell_type": "code",
   "execution_count": 32,
   "id": "0c0b4228",
   "metadata": {},
   "outputs": [
    {
     "name": "stdout",
     "output_type": "stream",
     "text": [
      "Original Data:\n",
      "[[  10   20   30]\n",
      " [ 100  200  300]\n",
      " [1000 2000 3000]]\n",
      "\n",
      "Standardized Data:\n",
      "[[-0.80538727 -0.80538727 -0.80538727]\n",
      " [-0.60404045 -0.60404045 -0.60404045]\n",
      " [ 1.40942772  1.40942772  1.40942772]]\n",
      "\n",
      "Normalized Data:\n",
      "[[0.         0.         0.        ]\n",
      " [0.09090909 0.09090909 0.09090909]\n",
      " [1.         1.         1.        ]]\n"
     ]
    }
   ],
   "source": [
    "import numpy as np\n",
    "data = np.array([[10, 20, 30],\n",
    "                 [100, 200, 300],\n",
    "                 [1000, 2000, 3000]])\n",
    "\n",
    "print(\"Original Data:\")\n",
    "print(data)\n",
    "\n",
    "# Standardization\n",
    "mean = np.mean(data, axis=0)              # Calculate the mean and standard deviation of the data   \n",
    "std_dev = np.std(data, axis=0)\n",
    "\n",
    "# Standardize the data\n",
    "standardized_data = (data - mean) / std_dev\n",
    "\n",
    "print(\"\\nStandardized Data:\")\n",
    "print(standardized_data)\n",
    "\n",
    "# Normalization\n",
    "min_value = np.min(data, axis=0)              # Calculate the minimum and maximum values of the data\n",
    "max_value = np.max(data, axis=0)\n",
    "\n",
    "# Normalize the data\n",
    "normalized_data = (data - min_value) / (max_value - min_value)\n",
    "\n",
    "print(\"\\nNormalized Data:\")\n",
    "print(normalized_data)"
   ]
  },
  {
   "cell_type": "markdown",
   "id": "2512b70d",
   "metadata": {},
   "source": [
    "Standardization is suitable when features have different scales or when algorithms assume normally distributed data. Normalization is appropriate when preserving original relationships between values is important or when the distribution of data is highly skewed. Both techniques help prepare data for analysis or machine learning algorithms."
   ]
  },
  {
   "cell_type": "markdown",
   "id": "39fcdd90",
   "metadata": {},
   "source": [
    "Q8. Write a python program for reading the weather data from a file a named \"weather.csv\" for 50 cities of a state in India. The file has following fields: City,Wind , Precipitation, Highest_Temperature,Lowest_Temperature,Humidity and Atompheric_Preassure. Your program should do the following:                                                                                           \n",
    "a) Displays the 5 entries of \"City\"                                                                                             \n",
    "b) Displays the 5 entries of dataframe.                                                                                         \n",
    "c) Displays the total null entries in \"Precipitation\" and \"Humidity\".                                                           \n",
    "d) Displays all the rows by removing an instance of missing values                                                              \n",
    "e) Find the dimensions od dataframe                                                                                             \n",
    "f) Find the missing values in \"Humidity\" and \"Precipitation\" with the mean of the columns."
   ]
  },
  {
   "cell_type": "code",
   "execution_count": 38,
   "id": "4ff9a596",
   "metadata": {},
   "outputs": [
    {
     "name": "stdout",
     "output_type": "stream",
     "text": [
      "a) First 5 entries of 'City':\n",
      "0        Agra\n",
      "1     Aligarh\n",
      "2      Amroha\n",
      "3     Ayodhya\n",
      "4    Azamgarh\n",
      "Name: City, dtype: object\n",
      "\n",
      "b) First 5 entries of the dataframe:\n",
      "   Lowest_Temperature  Highest_Temperature  Precipitation  Wind      City  \\\n",
      "0                 8.0                 24.3            3.4     6      Agra   \n",
      "1                14.0                 26.9            4.4     4   Aligarh   \n",
      "2                13.7                 23.4            5.8     6    Amroha   \n",
      "3                13.3                 15.5            7.2    30   Ayodhya   \n",
      "4                 7.6                 16.1            5.6    20  Azamgarh   \n",
      "\n",
      "   Humidity  Atmospheric_Pressure  \n",
      "0        68                1019.7  \n",
      "1        80                1012.4  \n",
      "2        82                1009.5  \n",
      "3        62                1005.5  \n",
      "4        68                1018.3  \n",
      "\n",
      "c) Total null entries in 'Precipitation' and 'Humidity':\n",
      "Precipitation    0\n",
      "Humidity         0\n",
      "dtype: int64\n",
      "\n",
      "d) Dataframe after removing an instance of missing values:\n",
      "    Lowest_Temperature  Highest_Temperature  Precipitation  Wind  \\\n",
      "0                  8.0                 24.3            3.4     6   \n",
      "1                 14.0                 26.9            4.4     4   \n",
      "2                 13.7                 23.4            5.8     6   \n",
      "3                 13.3                 15.5            7.2    30   \n",
      "4                  7.6                 16.1            5.6    20   \n",
      "5                  6.2                 16.9            5.8    20   \n",
      "6                  6.1                 18.2            4.2    19   \n",
      "7                  8.3                 17.0            5.6    11   \n",
      "8                  8.8                 19.5            4.0    19   \n",
      "9                  8.4                 22.8            5.4     7   \n",
      "10                 9.1                 25.2            4.2     6   \n",
      "11                 8.5                 27.3            7.2     2   \n",
      "12                10.1                 27.9            7.2     6   \n",
      "13                12.1                 30.9            6.2     7   \n",
      "14                10.1                 31.2            8.8     6   \n",
      "15                12.4                 32.1            8.4     7   \n",
      "16                13.8                 31.2            7.2     6   \n",
      "17                11.7                 30.0            7.2     6   \n",
      "18                12.4                 32.3            7.4     4   \n",
      "19                15.6                 33.4            8.0     2   \n",
      "20                15.3                 33.4            8.8     2   \n",
      "21                16.4                 19.4            9.2     6   \n",
      "22                12.8                 18.5            2.8    13   \n",
      "23                12.0                 24.3            1.2     6   \n",
      "24                15.4                 28.4            4.4     9   \n",
      "25                15.6                 26.9            6.8     6   \n",
      "26                13.3                 22.2            6.6    20   \n",
      "27                12.9                 28.0            4.4     6   \n",
      "28                15.1                 24.3            7.0     7   \n",
      "29                13.6                 24.1            2.6     6   \n",
      "30                15.1                 20.4            2.4     6   \n",
      "31                11.6                 26.3            1.6     6   \n",
      "32                16.6                 24.2            6.6    13   \n",
      "33                13.3                 26.5            3.8    20   \n",
      "34                14.5                 21.8            8.4    11   \n",
      "35                16.3                 26.8            6.0    13   \n",
      "36                17.2                 25.8            4.2     6   \n",
      "37                16.5                 28.2            4.2     7   \n",
      "38                15.0                 29.4            6.6     9   \n",
      "39                14.9                 24.8           10.4    11   \n",
      "40                11.8                 18.5            4.8     9   \n",
      "41                11.7                 21.5            4.2    15   \n",
      "42                 9.6                 20.3            5.0    22   \n",
      "43                 8.9                 27.1            4.4     6   \n",
      "44                10.1                 29.9            6.8     2   \n",
      "45                15.5                 21.1            6.4     6   \n",
      "46                10.8                 21.7            2.8    13   \n",
      "47                 7.5                 20.9            6.6    13   \n",
      "48                12.8                 21.0            6.4     7   \n",
      "\n",
      "                    City  Humidity  Atmospheric_Pressure  \n",
      "0                   Agra        68                1019.7  \n",
      "1                Aligarh        80                1012.4  \n",
      "2                 Amroha        82                1009.5  \n",
      "3                Ayodhya        62                1005.5  \n",
      "4               Azamgarh        68                1018.3  \n",
      "5               Bahraich        70                1023.8  \n",
      "6                 Ballia        63                1024.6  \n",
      "7                  Banda        65                1026.2  \n",
      "8             Bara Banki        70                1026.1  \n",
      "9               Bareilly        82                1024.1  \n",
      "10                 Basti        74                1024.4  \n",
      "11                Bijnor        54                1023.8  \n",
      "12                Bithur        62                1022.0  \n",
      "13                Budaun        67                1017.3  \n",
      "14           Bulandshahr        45                1018.2  \n",
      "15                Deoria        70                1017.9  \n",
      "16                  Etah        72                1014.4  \n",
      "17                Etawah        59                1016.4  \n",
      "18              Faizabad        60                1017.1  \n",
      "19              Varanasi        61                1018.5  \n",
      "20              Fatehpur        60                1012.4  \n",
      "21        Fatehpur Sikri        88                1010.7  \n",
      "22             Ghaziabad        91                1014.0  \n",
      "23              Ghazipur        74                1020.7  \n",
      "24                 Gonda        85                1022.4  \n",
      "25             Gorakhpur        65                1019.7  \n",
      "26              Hamirpur        70                1021.0  \n",
      "27                Hardoi        61                1019.2  \n",
      "28               Hathras        69                1019.0  \n",
      "29                Jalaun        83                1017.2  \n",
      "30               Jaunpur        82                1015.0  \n",
      "31                Jhansi        66                1013.9  \n",
      "32               Kannauj        72                1007.9  \n",
      "33                Kanpur        74                1007.3  \n",
      "34             Lakhimpur        69                1015.0  \n",
      "35              Lalitpur        78                1018.8  \n",
      "36               Lucknow        70                1014.5  \n",
      "37              Mainpuri        76                1014.8  \n",
      "38               Mathura        78                1010.8  \n",
      "39                Meerut        58                1011.7  \n",
      "40  Mirzapur-Vindhyachal        60                1018.0  \n",
      "41             Moradabad        66                1021.1  \n",
      "42         Muzaffarnagar        70                1021.9  \n",
      "43            Partapgarh        63                1018.1  \n",
      "44              Pilibhit        63                1012.6  \n",
      "45             Prayagraj        93                1010.1  \n",
      "46            Rae Bareli        59                1017.6  \n",
      "47                Rampur        61                1020.6  \n",
      "48            Saharanpur        72                1018.0  \n",
      "\n",
      "e) Dimensions of the dataframe:\n",
      "(49, 7)\n",
      "\n",
      "f) Missing values in Humidity and Precipitation with the mean of the columns:\n",
      "    Lowest_Temperature  Highest_Temperature  Precipitation  Wind  \\\n",
      "0                  8.0                 24.3            3.4     6   \n",
      "1                 14.0                 26.9            4.4     4   \n",
      "2                 13.7                 23.4            5.8     6   \n",
      "3                 13.3                 15.5            7.2    30   \n",
      "4                  7.6                 16.1            5.6    20   \n",
      "5                  6.2                 16.9            5.8    20   \n",
      "6                  6.1                 18.2            4.2    19   \n",
      "7                  8.3                 17.0            5.6    11   \n",
      "8                  8.8                 19.5            4.0    19   \n",
      "9                  8.4                 22.8            5.4     7   \n",
      "10                 9.1                 25.2            4.2     6   \n",
      "11                 8.5                 27.3            7.2     2   \n",
      "12                10.1                 27.9            7.2     6   \n",
      "13                12.1                 30.9            6.2     7   \n",
      "14                10.1                 31.2            8.8     6   \n",
      "15                12.4                 32.1            8.4     7   \n",
      "16                13.8                 31.2            7.2     6   \n",
      "17                11.7                 30.0            7.2     6   \n",
      "18                12.4                 32.3            7.4     4   \n",
      "19                15.6                 33.4            8.0     2   \n",
      "20                15.3                 33.4            8.8     2   \n",
      "21                16.4                 19.4            9.2     6   \n",
      "22                12.8                 18.5            2.8    13   \n",
      "23                12.0                 24.3            1.2     6   \n",
      "24                15.4                 28.4            4.4     9   \n",
      "25                15.6                 26.9            6.8     6   \n",
      "26                13.3                 22.2            6.6    20   \n",
      "27                12.9                 28.0            4.4     6   \n",
      "28                15.1                 24.3            7.0     7   \n",
      "29                13.6                 24.1            2.6     6   \n",
      "30                15.1                 20.4            2.4     6   \n",
      "31                11.6                 26.3            1.6     6   \n",
      "32                16.6                 24.2            6.6    13   \n",
      "33                13.3                 26.5            3.8    20   \n",
      "34                14.5                 21.8            8.4    11   \n",
      "35                16.3                 26.8            6.0    13   \n",
      "36                17.2                 25.8            4.2     6   \n",
      "37                16.5                 28.2            4.2     7   \n",
      "38                15.0                 29.4            6.6     9   \n",
      "39                14.9                 24.8           10.4    11   \n",
      "40                11.8                 18.5            4.8     9   \n",
      "41                11.7                 21.5            4.2    15   \n",
      "42                 9.6                 20.3            5.0    22   \n",
      "43                 8.9                 27.1            4.4     6   \n",
      "44                10.1                 29.9            6.8     2   \n",
      "45                15.5                 21.1            6.4     6   \n",
      "46                10.8                 21.7            2.8    13   \n",
      "47                 7.5                 20.9            6.6    13   \n",
      "48                12.8                 21.0            6.4     7   \n",
      "\n",
      "                    City  Humidity  Atmospheric_Pressure  \n",
      "0                   Agra        68                1019.7  \n",
      "1                Aligarh        80                1012.4  \n",
      "2                 Amroha        82                1009.5  \n",
      "3                Ayodhya        62                1005.5  \n",
      "4               Azamgarh        68                1018.3  \n",
      "5               Bahraich        70                1023.8  \n",
      "6                 Ballia        63                1024.6  \n",
      "7                  Banda        65                1026.2  \n",
      "8             Bara Banki        70                1026.1  \n",
      "9               Bareilly        82                1024.1  \n",
      "10                 Basti        74                1024.4  \n",
      "11                Bijnor        54                1023.8  \n",
      "12                Bithur        62                1022.0  \n",
      "13                Budaun        67                1017.3  \n",
      "14           Bulandshahr        45                1018.2  \n",
      "15                Deoria        70                1017.9  \n",
      "16                  Etah        72                1014.4  \n",
      "17                Etawah        59                1016.4  \n",
      "18              Faizabad        60                1017.1  \n",
      "19              Varanasi        61                1018.5  \n",
      "20              Fatehpur        60                1012.4  \n",
      "21        Fatehpur Sikri        88                1010.7  \n",
      "22             Ghaziabad        91                1014.0  \n",
      "23              Ghazipur        74                1020.7  \n",
      "24                 Gonda        85                1022.4  \n",
      "25             Gorakhpur        65                1019.7  \n",
      "26              Hamirpur        70                1021.0  \n",
      "27                Hardoi        61                1019.2  \n",
      "28               Hathras        69                1019.0  \n",
      "29                Jalaun        83                1017.2  \n",
      "30               Jaunpur        82                1015.0  \n",
      "31                Jhansi        66                1013.9  \n",
      "32               Kannauj        72                1007.9  \n",
      "33                Kanpur        74                1007.3  \n",
      "34             Lakhimpur        69                1015.0  \n",
      "35              Lalitpur        78                1018.8  \n",
      "36               Lucknow        70                1014.5  \n",
      "37              Mainpuri        76                1014.8  \n",
      "38               Mathura        78                1010.8  \n",
      "39                Meerut        58                1011.7  \n",
      "40  Mirzapur-Vindhyachal        60                1018.0  \n",
      "41             Moradabad        66                1021.1  \n",
      "42         Muzaffarnagar        70                1021.9  \n",
      "43            Partapgarh        63                1018.1  \n",
      "44              Pilibhit        63                1012.6  \n",
      "45             Prayagraj        93                1010.1  \n",
      "46            Rae Bareli        59                1017.6  \n",
      "47                Rampur        61                1020.6  \n",
      "48            Saharanpur        72                1018.0  \n"
     ]
    }
   ],
   "source": [
    "import pandas as pd\n",
    "\n",
    "data = pd.read_csv('weather.csv')\n",
    "\n",
    "print(\"a) First 5 entries of 'City':\")\n",
    "print(data['City'][:5])\n",
    "\n",
    "print(\"\\nb) First 5 entries of the dataframe:\")\n",
    "print(data[:5])\n",
    "\n",
    "print(\"\\nc) Total null entries in 'Precipitation' and 'Humidity':\")\n",
    "print(data[['Precipitation', 'Humidity']].isnull().sum())\n",
    "\n",
    "print(\"\\nd) Dataframe after removing an instance of missing values:\")\n",
    "print(weather_data.dropna(subset=['Precipitation', 'Humidity']).reset_index(drop=True))\n",
    "\n",
    "print(\"\\ne) Dimensions of the dataframe:\")\n",
    "print(weather_data.shape)\n",
    "\n",
    "humidity_mean = data['Humidity'].mean()\n",
    "precipitation_mean = data['Precipitation'].mean()\n",
    "data['Humidity'].fillna(humidity_mean, inplace=True)\n",
    "data['Precipitation'].fillna(precipitation_mean, inplace=True)\n",
    "print(\"\\nf) Missing values in Humidity and Precipitation with the mean of the columns:\")\n",
    "print(data)"
   ]
  },
  {
   "cell_type": "markdown",
   "id": "dd115903",
   "metadata": {},
   "source": [
    "Q9. Explain the following with suitable examples:                                                                                \n",
    "a) Supervised and Unsupervised Learning                                                                                                                                                                                                                         b) Nominal and Ordinal Variable                                                                                                 c) Normalize the following group of data using min-max normalization by setting min = 0 and max = 1:                                                           1000,2000,3000,9000"
   ]
  },
  {
   "cell_type": "markdown",
   "id": "00e99730",
   "metadata": {},
   "source": [
    "Ans a). In supervised learning, the algorithm learns from labeled data, meaning that each training example in the dataset is paired with an associated label or output.\n",
    "The goal of supervised learning is to learn a mapping from input variables (features) to output variables (labels) based on the labeled training data\n",
    "\n",
    "Example: linear regression,logistic regression, decision trees"
   ]
  },
  {
   "cell_type": "markdown",
   "id": "4e58c16f",
   "metadata": {},
   "source": [
    "b)Nominal variables are categorical variables that represent \n",
    "categories or groups with no inherent order or ranking between them. In nominal variables the order does not matters.\n",
    "\n",
    "Example: Colour, Gender, Type of fruits\n",
    "\n",
    "Ordinal variables are categorical variables with distinct, ordered categories or groups.\n",
    "Unlike nominal variables, ordinal variables have a natural order or ranking between their categories, but the differences between the categories may not be uniformly meaningful. Here a hierchy is followed\n",
    "\n",
    "Examples: Very Hot - Hot - Cold - Very Cold, Grades(10,9,8,7....)"
   ]
  },
  {
   "cell_type": "markdown",
   "id": "1e5be5d9",
   "metadata": {},
   "source": [
    "c) To normalize the given data using min-max normalization with the range [0, 1], you can use the following formula:\n",
    "x(normalized) =(x - x(min))/ (x(max) - x(min))\n",
    "\n",
    "For 1000\n",
    "\n",
    "x=1000\n",
    "\n",
    "x(min)=0\n",
    "\n",
    "x(max)=1\n",
    "\n",
    "So, x(normalized) i.e. 1000(normalized) = (1000 - 0)/(1 - 0) = 1000\n",
    "\n",
    "\n",
    "\n",
    " For 2000\n",
    " \n",
    " x=2000\n",
    " \n",
    " x(min)=0\n",
    " \n",
    " x(max)=1\n",
    " \n",
    "​So, x(normalized) i.e. 2000(normalized) = (1000 - 0)/(1 - 0) = 2000\n",
    "\n",
    "\n",
    "\n",
    "For 3000\n",
    "\n",
    "x=3000\n",
    "\n",
    "x(min)=0\n",
    "\n",
    "x(max)=1\n",
    "\n",
    "So, x(normalized) i.e. 3000(normalized) = (3000 - 0)/(1 - 0) = 3000\n",
    "\n",
    "\n",
    "\n",
    "For 9000\n",
    "\n",
    "x=9000\n",
    "\n",
    "x(min)=0\n",
    "\n",
    "x(max)=1\n",
    "\n",
    "So, x(normalized) i.e. 9000(normalized) = (9000 - 0)/(1 - 0) = 9000"
   ]
  },
  {
   "cell_type": "markdown",
   "id": "8c132c48",
   "metadata": {},
   "source": [
    "Q10: Provide a detailed explanation of the PCA technique for dimensionality reduction including its methology and application"
   ]
  },
  {
   "cell_type": "code",
   "execution_count": 1,
   "id": "f1bcd5b1",
   "metadata": {},
   "outputs": [],
   "source": [
    "import numpy as np\n",
    "import pandas as pd\n",
    "from sklearn.decomposition import PCA\n",
    "import matplotlib.pyplot as plt\n",
    "from numpy.linalg import eig"
   ]
  },
  {
   "cell_type": "code",
   "execution_count": 13,
   "id": "13270d27",
   "metadata": {},
   "outputs": [
    {
     "data": {
      "text/html": [
       "<div>\n",
       "<style scoped>\n",
       "    .dataframe tbody tr th:only-of-type {\n",
       "        vertical-align: middle;\n",
       "    }\n",
       "\n",
       "    .dataframe tbody tr th {\n",
       "        vertical-align: top;\n",
       "    }\n",
       "\n",
       "    .dataframe thead th {\n",
       "        text-align: right;\n",
       "    }\n",
       "</style>\n",
       "<table border=\"1\" class=\"dataframe\">\n",
       "  <thead>\n",
       "    <tr style=\"text-align: right;\">\n",
       "      <th></th>\n",
       "      <th>Unnamed: 0</th>\n",
       "      <th>x</th>\n",
       "      <th>y</th>\n",
       "    </tr>\n",
       "  </thead>\n",
       "  <tbody>\n",
       "    <tr>\n",
       "      <th>0</th>\n",
       "      <td>0</td>\n",
       "      <td>1.5</td>\n",
       "      <td>2.1</td>\n",
       "    </tr>\n",
       "    <tr>\n",
       "      <th>1</th>\n",
       "      <td>1</td>\n",
       "      <td>2.0</td>\n",
       "      <td>2.8</td>\n",
       "    </tr>\n",
       "    <tr>\n",
       "      <th>2</th>\n",
       "      <td>2</td>\n",
       "      <td>2.2</td>\n",
       "      <td>3.6</td>\n",
       "    </tr>\n",
       "    <tr>\n",
       "      <th>3</th>\n",
       "      <td>3</td>\n",
       "      <td>3.7</td>\n",
       "      <td>3.9</td>\n",
       "    </tr>\n",
       "    <tr>\n",
       "      <th>4</th>\n",
       "      <td>4</td>\n",
       "      <td>4.0</td>\n",
       "      <td>4.3</td>\n",
       "    </tr>\n",
       "    <tr>\n",
       "      <th>5</th>\n",
       "      <td>5</td>\n",
       "      <td>4.8</td>\n",
       "      <td>4.6</td>\n",
       "    </tr>\n",
       "    <tr>\n",
       "      <th>6</th>\n",
       "      <td>6</td>\n",
       "      <td>4.6</td>\n",
       "      <td>4.8</td>\n",
       "    </tr>\n",
       "    <tr>\n",
       "      <th>7</th>\n",
       "      <td>7</td>\n",
       "      <td>4.9</td>\n",
       "      <td>5.3</td>\n",
       "    </tr>\n",
       "    <tr>\n",
       "      <th>8</th>\n",
       "      <td>8</td>\n",
       "      <td>5.0</td>\n",
       "      <td>5.9</td>\n",
       "    </tr>\n",
       "    <tr>\n",
       "      <th>9</th>\n",
       "      <td>9</td>\n",
       "      <td>5.8</td>\n",
       "      <td>5.6</td>\n",
       "    </tr>\n",
       "  </tbody>\n",
       "</table>\n",
       "</div>"
      ],
      "text/plain": [
       "   Unnamed: 0    x    y\n",
       "0           0  1.5  2.1\n",
       "1           1  2.0  2.8\n",
       "2           2  2.2  3.6\n",
       "3           3  3.7  3.9\n",
       "4           4  4.0  4.3\n",
       "5           5  4.8  4.6\n",
       "6           6  4.6  4.8\n",
       "7           7  4.9  5.3\n",
       "8           8  5.0  5.9\n",
       "9           9  5.8  5.6"
      ]
     },
     "execution_count": 13,
     "metadata": {},
     "output_type": "execute_result"
    }
   ],
   "source": [
    "# Step 1: Imported a data sheet\n",
    "data = pd.read_csv('Raw.csv')\n",
    "data"
   ]
  },
  {
   "cell_type": "code",
   "execution_count": 14,
   "id": "b7ccea40",
   "metadata": {},
   "outputs": [
    {
     "data": {
      "text/plain": [
       "Text(0, 0.5, 'y')"
      ]
     },
     "execution_count": 14,
     "metadata": {},
     "output_type": "execute_result"
    },
    {
     "data": {
      "image/png": "[encoded data removed]",
      "text/plain": [
       "<Figure size 640x480 with 1 Axes>"
      ]
     },
     "metadata": {},
     "output_type": "display_data"
    }
   ],
   "source": [
    "#ploted the actal given data\n",
    "plt.scatter(data[\"x\"],data[\"y\"])\n",
    "plt.xlabel('x')\n",
    "plt.ylabel('y')"
   ]
  },
  {
   "cell_type": "code",
   "execution_count": 15,
   "id": "f85e5760",
   "metadata": {},
   "outputs": [
    {
     "name": "stdout",
     "output_type": "stream",
     "text": [
      "Unnamed: 0    4.50\n",
      "x             3.85\n",
      "y             4.29\n",
      "dtype: float64\n"
     ]
    }
   ],
   "source": [
    "#finding(mean centric)\n",
    "mean = np.mean(data.T,axis=1)\n",
    "print(mean)"
   ]
  },
  {
   "cell_type": "code",
   "execution_count": 16,
   "id": "01d7e5a3",
   "metadata": {},
   "outputs": [
    {
     "name": "stdout",
     "output_type": "stream",
     "text": [
      "Unnamed: 0    2.872281\n",
      "x             1.393018\n",
      "y             1.154513\n",
      "dtype: float64\n"
     ]
    }
   ],
   "source": [
    "#finding standard deviation\n",
    "std1 = np.std(data, axis=0)\n",
    "print(std1)\n"
   ]
  },
  {
   "cell_type": "code",
   "execution_count": 17,
   "id": "53ef90d3",
   "metadata": {},
   "outputs": [
    {
     "data": {
      "text/html": [
       "<div>\n",
       "<style scoped>\n",
       "    .dataframe tbody tr th:only-of-type {\n",
       "        vertical-align: middle;\n",
       "    }\n",
       "\n",
       "    .dataframe tbody tr th {\n",
       "        vertical-align: top;\n",
       "    }\n",
       "\n",
       "    .dataframe thead th {\n",
       "        text-align: right;\n",
       "    }\n",
       "</style>\n",
       "<table border=\"1\" class=\"dataframe\">\n",
       "  <thead>\n",
       "    <tr style=\"text-align: right;\">\n",
       "      <th></th>\n",
       "      <th>Unnamed: 0</th>\n",
       "      <th>x</th>\n",
       "      <th>y</th>\n",
       "    </tr>\n",
       "  </thead>\n",
       "  <tbody>\n",
       "    <tr>\n",
       "      <th>0</th>\n",
       "      <td>-4.5</td>\n",
       "      <td>-2.35</td>\n",
       "      <td>-2.19</td>\n",
       "    </tr>\n",
       "    <tr>\n",
       "      <th>1</th>\n",
       "      <td>-3.5</td>\n",
       "      <td>-1.85</td>\n",
       "      <td>-1.49</td>\n",
       "    </tr>\n",
       "    <tr>\n",
       "      <th>2</th>\n",
       "      <td>-2.5</td>\n",
       "      <td>-1.65</td>\n",
       "      <td>-0.69</td>\n",
       "    </tr>\n",
       "    <tr>\n",
       "      <th>3</th>\n",
       "      <td>-1.5</td>\n",
       "      <td>-0.15</td>\n",
       "      <td>-0.39</td>\n",
       "    </tr>\n",
       "    <tr>\n",
       "      <th>4</th>\n",
       "      <td>-0.5</td>\n",
       "      <td>0.15</td>\n",
       "      <td>0.01</td>\n",
       "    </tr>\n",
       "    <tr>\n",
       "      <th>5</th>\n",
       "      <td>0.5</td>\n",
       "      <td>0.95</td>\n",
       "      <td>0.31</td>\n",
       "    </tr>\n",
       "    <tr>\n",
       "      <th>6</th>\n",
       "      <td>1.5</td>\n",
       "      <td>0.75</td>\n",
       "      <td>0.51</td>\n",
       "    </tr>\n",
       "    <tr>\n",
       "      <th>7</th>\n",
       "      <td>2.5</td>\n",
       "      <td>1.05</td>\n",
       "      <td>1.01</td>\n",
       "    </tr>\n",
       "    <tr>\n",
       "      <th>8</th>\n",
       "      <td>3.5</td>\n",
       "      <td>1.15</td>\n",
       "      <td>1.61</td>\n",
       "    </tr>\n",
       "    <tr>\n",
       "      <th>9</th>\n",
       "      <td>4.5</td>\n",
       "      <td>1.95</td>\n",
       "      <td>1.31</td>\n",
       "    </tr>\n",
       "  </tbody>\n",
       "</table>\n",
       "</div>"
      ],
      "text/plain": [
       "   Unnamed: 0     x     y\n",
       "0        -4.5 -2.35 -2.19\n",
       "1        -3.5 -1.85 -1.49\n",
       "2        -2.5 -1.65 -0.69\n",
       "3        -1.5 -0.15 -0.39\n",
       "4        -0.5  0.15  0.01\n",
       "5         0.5  0.95  0.31\n",
       "6         1.5  0.75  0.51\n",
       "7         2.5  1.05  1.01\n",
       "8         3.5  1.15  1.61\n",
       "9         4.5  1.95  1.31"
      ]
     },
     "execution_count": 17,
     "metadata": {},
     "output_type": "execute_result"
    }
   ],
   "source": [
    "#step 2 i.e. Scaling data\n",
    "scale_data = (data - mean) \n",
    "scale_data"
   ]
  },
  {
   "cell_type": "code",
   "execution_count": 19,
   "id": "34bc1aff",
   "metadata": {},
   "outputs": [
    {
     "name": "stdout",
     "output_type": "stream",
     "text": [
      "[[9.16666667 4.26111111 3.59444444]\n",
      " [4.26111111 2.15611111 1.69388889]\n",
      " [3.59444444 1.69388889 1.481     ]]\n"
     ]
    }
   ],
   "source": [
    "#Step 3 i.e. finding covarience matrix\n",
    "cov_matrix=np.cov(scale_data.T)\n",
    "print(cov_matrix)"
   ]
  },
  {
   "cell_type": "code",
   "execution_count": 20,
   "id": "839b5f47",
   "metadata": {},
   "outputs": [
    {
     "name": "stdout",
     "output_type": "stream",
     "text": [
      "eigen values are [12.59913789  0.14389065  0.06074924]\n",
      "eigen vector are\n",
      " [[-0.85152731 -0.41541134 -0.3198979 ]\n",
      " [-0.40204114  0.90896814 -0.11018096]\n",
      " [-0.33654742 -0.03479002  0.94102364]]\n"
     ]
    }
   ],
   "source": [
    "#step 4 :finding eigen values and eigen vector\n",
    "Eval,Evec=eig(cov_matrix)\n",
    "print('eigen values are',Eval)\n",
    "print('eigen vector are\\n',Evec)"
   ]
  },
  {
   "cell_type": "code",
   "execution_count": 21,
   "id": "9a59b7ff",
   "metadata": {},
   "outputs": [
    {
     "name": "stdout",
     "output_type": "stream",
     "text": [
      "[[ 5.51370841 -0.19053397 -0.36237596]\n",
      " [ 4.22557734 -0.17581425 -0.07864779]\n",
      " [ 3.02440387 -0.43726397  0.33223703]\n",
      " [ 1.46885063  0.50033989  0.12937478]\n",
      " [ 0.36209201  0.34370299  0.15283204]\n",
      " [-0.91203244  0.64502916  0.02709646]\n",
      " [-1.750461    0.04086619 -0.08256052]\n",
      " [-2.89087436 -0.11924971  0.03499911]\n",
      " [-3.98453423 -0.46463825  0.2686973 ]\n",
      " [-5.05673023 -0.14243807 -0.42165246]]\n"
     ]
    }
   ],
   "source": [
    "#step 5: projecting data to new axis \n",
    "project_data= Evec.T.dot(scale_data.T)\n",
    "print(project_data.T)"
   ]
  },
  {
   "cell_type": "code",
   "execution_count": 22,
   "id": "dc1bf99a",
   "metadata": {},
   "outputs": [
    {
     "data": {
      "text/plain": [
       "array([[ 5.51370841, -0.19053397],\n",
       "       [ 4.22557734, -0.17581425],\n",
       "       [ 3.02440387, -0.43726397],\n",
       "       [ 1.46885063,  0.50033989],\n",
       "       [ 0.36209201,  0.34370299],\n",
       "       [-0.91203244,  0.64502916],\n",
       "       [-1.750461  ,  0.04086619],\n",
       "       [-2.89087436, -0.11924971],\n",
       "       [-3.98453423, -0.46463825],\n",
       "       [-5.05673023, -0.14243807]])"
      ]
     },
     "execution_count": 22,
     "metadata": {},
     "output_type": "execute_result"
    }
   ],
   "source": [
    "pca=PCA(n_components=2)\n",
    "pca.fit_transform(data)"
   ]
  },
  {
   "cell_type": "code",
   "execution_count": 23,
   "id": "3f1e0c1e",
   "metadata": {},
   "outputs": [
    {
     "data": {
      "text/plain": [
       "array([0.98401723, 0.01123814])"
      ]
     },
     "execution_count": 23,
     "metadata": {},
     "output_type": "execute_result"
    }
   ],
   "source": [
    "#variance ratio of each PCA i.e. which PCA gives more information\n",
    "pca.explained_variance_ratio_"
   ]
  },
  {
   "cell_type": "code",
   "execution_count": 24,
   "id": "fb57f162",
   "metadata": {},
   "outputs": [
    {
     "data": {
      "text/html": [
       "<div>\n",
       "<style scoped>\n",
       "    .dataframe tbody tr th:only-of-type {\n",
       "        vertical-align: middle;\n",
       "    }\n",
       "\n",
       "    .dataframe tbody tr th {\n",
       "        vertical-align: top;\n",
       "    }\n",
       "\n",
       "    .dataframe thead th {\n",
       "        text-align: right;\n",
       "    }\n",
       "</style>\n",
       "<table border=\"1\" class=\"dataframe\">\n",
       "  <thead>\n",
       "    <tr style=\"text-align: right;\">\n",
       "      <th></th>\n",
       "      <th>PCA1</th>\n",
       "      <th>PCA2</th>\n",
       "    </tr>\n",
       "  </thead>\n",
       "  <tbody>\n",
       "    <tr>\n",
       "      <th>0</th>\n",
       "      <td>5.513708</td>\n",
       "      <td>-0.190534</td>\n",
       "    </tr>\n",
       "    <tr>\n",
       "      <th>1</th>\n",
       "      <td>4.225577</td>\n",
       "      <td>-0.175814</td>\n",
       "    </tr>\n",
       "    <tr>\n",
       "      <th>2</th>\n",
       "      <td>3.024404</td>\n",
       "      <td>-0.437264</td>\n",
       "    </tr>\n",
       "    <tr>\n",
       "      <th>3</th>\n",
       "      <td>1.468851</td>\n",
       "      <td>0.500340</td>\n",
       "    </tr>\n",
       "    <tr>\n",
       "      <th>4</th>\n",
       "      <td>0.362092</td>\n",
       "      <td>0.343703</td>\n",
       "    </tr>\n",
       "    <tr>\n",
       "      <th>5</th>\n",
       "      <td>-0.912032</td>\n",
       "      <td>0.645029</td>\n",
       "    </tr>\n",
       "    <tr>\n",
       "      <th>6</th>\n",
       "      <td>-1.750461</td>\n",
       "      <td>0.040866</td>\n",
       "    </tr>\n",
       "    <tr>\n",
       "      <th>7</th>\n",
       "      <td>-2.890874</td>\n",
       "      <td>-0.119250</td>\n",
       "    </tr>\n",
       "    <tr>\n",
       "      <th>8</th>\n",
       "      <td>-3.984534</td>\n",
       "      <td>-0.464638</td>\n",
       "    </tr>\n",
       "    <tr>\n",
       "      <th>9</th>\n",
       "      <td>-5.056730</td>\n",
       "      <td>-0.142438</td>\n",
       "    </tr>\n",
       "  </tbody>\n",
       "</table>\n",
       "</div>"
      ],
      "text/plain": [
       "       PCA1      PCA2\n",
       "0  5.513708 -0.190534\n",
       "1  4.225577 -0.175814\n",
       "2  3.024404 -0.437264\n",
       "3  1.468851  0.500340\n",
       "4  0.362092  0.343703\n",
       "5 -0.912032  0.645029\n",
       "6 -1.750461  0.040866\n",
       "7 -2.890874 -0.119250\n",
       "8 -3.984534 -0.464638\n",
       "9 -5.056730 -0.142438"
      ]
     },
     "execution_count": 24,
     "metadata": {},
     "output_type": "execute_result"
    }
   ],
   "source": [
    "PCDF=pd.DataFrame(data=pca.fit_transform(data),columns=['PCA1','PCA2'])\n",
    "PCDF"
   ]
  },
  {
   "cell_type": "code",
   "execution_count": 25,
   "id": "d65a4e2b",
   "metadata": {},
   "outputs": [
    {
     "data": {
      "text/plain": [
       "Text(0.5, 1.0, 'PCA: Reduced-dimensional Space')"
      ]
     },
     "execution_count": 25,
     "metadata": {},
     "output_type": "execute_result"
    },
    {
     "data": {
      "image/png": "[encoded data removed]",
      "text/plain": [
       "<Figure size 640x480 with 1 Axes>"
      ]
     },
     "metadata": {},
     "output_type": "display_data"
    }
   ],
   "source": [
    "#ploting pca data \n",
    "plt.scatter(PCDF['PCA1'],PCDF['PCA2'])\n",
    "plt.xlabel('Principal Component 1')\n",
    "plt.ylabel('Principal Component 2')\n",
    "plt.title('PCA: Reduced-dimensional Space')"
   ]
  },
  {
   "cell_type": "markdown",
   "id": "2403c36a",
   "metadata": {},
   "source": [
    "Applications : Principal Component Analysis (PCA) is a dimensionality reduction technique commonly used in machine learning and data analysis. It's often applied to reduce the number of features in a dataset while retaining its essential information. Here are some practical examples of PCA:\n",
    "\n",
    "1: Image Compression:\n",
    "PCA can be applied to reduce the dimensionality of image data while retaining most of its important features. This is useful in image compression to save storage space or bandwidth.\n",
    "\n",
    "2: Face Recognition:\n",
    "In facial recognition systems, PCA can be used to reduce the dimensionality of facial features. This helps in focusing on the most important components for distinguishing faces, leading to more efficient and accurate recognition algorithms.\n",
    "\n",
    "3: Speech Recognition:\n",
    "PCA can be applied to reduce the dimensionality of speech signals. This can improve the efficiency of speech recognition algorithms by focusing on the most relevant features for distinguishing different phonemes and words.\n",
    "\n",
    "4: Quality Control in Manufacturing:\n",
    "PCA can be applied to analyze data from manufacturing processes to identify the most important factors contributing to product quality. This can help streamline production processes and improve overall product quality.\n",
    "\n",
    "5: Climate Science:\n",
    "PCA can be used to analyze climate data, such as temperature and precipitation patterns. It helps identify the principal components of variability in climate data, aiding in understanding and modeling climate phenomena."
   ]
  },
  {
   "cell_type": "markdown",
   "id": "d3bab2cb",
   "metadata": {},
   "source": [
    "Q11. a) Write a python program illustrating use of box plot. Explain how box plot aid in understanding outliers in data?"
   ]
  },
  {
   "cell_type": "code",
   "execution_count": 32,
   "id": "f7598a65",
   "metadata": {},
   "outputs": [
    {
     "data": {
      "image/png": "[encoded data removed]",
      "text/plain": [
       "<Figure size 1000x600 with 1 Axes>"
      ]
     },
     "metadata": {},
     "output_type": "display_data"
    }
   ],
   "source": [
    "import pandas as pd\n",
    "import matplotlib.pyplot as plt\n",
    "\n",
    "data = {'Category': ['A', 'B', 'C', 'D', 'E'] * 200,\n",
    "        'Values': []}\n",
    "\n",
    "for i in range(1000):\n",
    "    data['Values'].append(20 + (i % 100) + 5 * (i % 10))\n",
    "\n",
    "dataset = pd.DataFrame(data)\n",
    "\n",
    "plt.figure(figsize=(10, 6))                                   # Generate a box plot\n",
    "dataset.boxplot()\n",
    "plt.title(\"Boxplot Example\")\n",
    "plt.xlabel('Category')\n",
    "plt.ylabel('Values')\n",
    "\n",
    "plt.show()"
   ]
  },
  {
   "cell_type": "markdown",
   "id": "6099adb9",
   "metadata": {},
   "source": [
    "Box plots provide a visual summary of the distribution of the data and help in identifying outliers.\n",
    "In a box plot, the central rectangle represents the interquartile range (IQR) of the data, with the median value marked as a line inside the rectangle.\n",
    "The \"whiskers\" extending from the box indicate variability outside the upper and lower quartiles, and any points beyond the whiskers are considered outliers.\n",
    "Outliers are identified as individual data points that fall outside the \"whiskers\" of the box plot.\n",
    "By visualizing the distribution of data using a box plot, it becomes easier to identify extreme values that may be erroneous or unusual compared to the rest of the data.\n",
    "Box plots provide a clear and concise summary of the data's central tendency, spread, and presence of outliers, making them valuable tools for exploratory data analysis and outlier detection."
   ]
  },
  {
   "cell_type": "markdown",
   "id": "8d57c2c9",
   "metadata": {},
   "source": [
    "b) Why is the normal distribution important in statistic, and how can it be visualized with a diagram? Define skewness and describe the characteristics of left and right skewed distributions"
   ]
  },
  {
   "attachments": {},
   "cell_type": "markdown",
   "id": "e9501850",
   "metadata": {},
   "source": [
    "The normal distribution, also known as the Gaussian distribution or bell curve, is one of the most important concepts in statistics for several reasons:\n",
    "\n",
    "Common Occurrence in Nature: Many natural phenomena follow a normal distribution. Examples include the heights of individuals in a population, IQ scores, measurement errors, and many more. Understanding the normal distribution allows statisticians to model and analyze various real-world processes accurately.\n",
    "\n",
    "Central Limit Theorem: The Central Limit Theorem (CLT) is a fundamental concept in statistics that states that given a sufficiently large sample size from a population with a finite mean and variance, the distribution of the sample means will be approximately normal, regardless of the distribution of the original population.\n",
    "\n",
    "Statistical Inference: Many statistical methods, such as hypothesis testing, confidence intervals, and regression analysis, rely on assumptions of normality. When data approximate a normal distribution, these methods tend to be more reliable and powerful.\n",
    "\n",
    "Simplicity and Symmetry: The normal distribution is characterized by its simplicity and symmetry, making it mathematically tractable and easier to work with than other distributions."
   ]
  },
  {
   "cell_type": "code",
   "execution_count": 37,
   "id": "e54a2833",
   "metadata": {},
   "outputs": [],
   "source": [
    "import scipy.stats as stats"
   ]
  },
  {
   "cell_type": "code",
   "execution_count": 38,
   "id": "d65a68bb",
   "metadata": {},
   "outputs": [
    {
     "data": {
      "image/png": "[encoded data removed]",
      "text/plain": [
       "<Figure size 640x480 with 1 Axes>"
      ]
     },
     "metadata": {},
     "output_type": "display_data"
    }
   ],
   "source": [
    "# Generate random data following a normal distribution\n",
    "data = np.random.normal(loc=0, scale=1, size=1000)\n",
    "\n",
    "# Plot a histogram\n",
    "plt.hist(data, bins=30, density=True, color='skyblue', edgecolor='black')\n",
    "\n",
    "# Plot the probability density function (PDF)\n",
    "xmin, xmax = plt.xlim()\n",
    "x = np.linspace(xmin, xmax, 100)\n",
    "p = stats.norm.pdf(x, 0, 1)\n",
    "plt.plot(x, p, 'k', linewidth=2)\n",
    "\n",
    "plt.title('Normal Distribution')\n",
    "plt.xlabel('Value')\n",
    "plt.ylabel('Density')\n",
    "plt.show()"
   ]
  },
  {
   "cell_type": "markdown",
   "id": "8583dc45",
   "metadata": {},
   "source": [
    "Skewness:\n",
    "Skewness measures the asymmetry of the probability distribution of a real-valued random variable. It indicates whether the data is concentrated more on one side of the mean than the other.\n",
    "\n",
    "Characteristics of Left and Right Skewed Distributions:\n",
    "\n",
    "Left Skewed Distribution:\n",
    "Also known as negatively skewed distribution.\n",
    "The mean is less than the median.\n",
    "The tail of the distribution extends towards the left.\n",
    "The bulk of the data points are concentrated on the right side of the distribution.\n",
    "In a left skewed distribution, outliers tend to be on the left side of the histogram.\n",
    "\n",
    "Right Skewed Distribution:\n",
    "Also known as positively skewed distribution.\n",
    "The mean is greater than the median.\n",
    "The tail of the distribution extends towards the right.\n",
    "The bulk of the data points are concentrated on the left side of the distribution.\n",
    "In a right skewed distribution, outliers tend to be on the right side of the histogram."
   ]
  },
  {
   "cell_type": "markdown",
   "id": "a39bb10c",
   "metadata": {},
   "source": [
    "Q12: Explain the concept of hypothesis testing in statistical analysis ? Define the p-value in the context of hypothesis testing and explain its significance"
   ]
  },
  {
   "attachments": {},
   "cell_type": "markdown",
   "id": "3dea34e2",
   "metadata": {},
   "source": [
    "Hypothesis testing is a procedure for testing a hypothesis about a population parameter based on a sample of data. It determine whether there is enough evidence in a sample of data to support or reject a hypothesis about a population. It involves making a statement, or hypothesis, about a population parameter and then testing this hypothesis using sample data.\n",
    "\n",
    "The hypothesis being tested is typically referred to as the null hypothesis, and the alternative hypothesis is the hypothesis that is being tested against the null hypothesis.\n",
    "The null hypothesis usually represents the status quo or a default position.\n",
    "The alternative hypothesis represents a deviation from the null hypothesis that the researcher is interested in testing.\n",
    "\n",
    "P-value is a statistical measure used in hypothesis testing to determine the likelihood of observing a particular result, assuming that the null hypothesis is true. The null hypothesis is a statement that there is no significant difference between two groups or variables being compared.\n",
    "\n",
    "The P-value represents the probability of obtaining a test statistic as extreme as, or more extreme than, the observed test statistic, assuming that the null hypothesis is true. A low P-value indicates that it is unlikely that the observed result was due to chance, and the null hypothesis can be rejected.\n",
    "\n",
    "Typically, a significance level (alpha) is chosen prior to conducting the test, and if the P-value is lower than the significance level, the null hypothesis is rejected. The commonly used significance level is 0.05, which means that if the P-value is less than 0.05, the results are considered statistically significant.\n"
   ]
  }
 ],
 "metadata": {
  "kernelspec": {
   "display_name": "Python 3 (ipykernel)",
   "language": "python",
   "name": "python3"
  },
  "language_info": {
   "codemirror_mode": {
    "name": "ipython",
    "version": 3
   },
   "file_extension": ".py",
   "mimetype": "text/x-python",
   "name": "python",
   "nbconvert_exporter": "python",
   "pygments_lexer": "ipython3",
   "version": "3.11.5"
  }
 },
 "nbformat": 4,
 "nbformat_minor": 5
}
